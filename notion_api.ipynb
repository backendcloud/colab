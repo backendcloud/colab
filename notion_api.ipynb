{
  "nbformat": 4,
  "nbformat_minor": 0,
  "metadata": {
    "colab": {
      "provenance": [],
      "authorship_tag": "ABX9TyPM/0SveFDjKk4hX0cQ2ATb",
      "include_colab_link": true
    },
    "kernelspec": {
      "name": "python3",
      "display_name": "Python 3"
    },
    "language_info": {
      "name": "python"
    }
  },
  "cells": [
    {
      "cell_type": "markdown",
      "metadata": {
        "id": "view-in-github",
        "colab_type": "text"
      },
      "source": [
        "<a href=\"https://colab.research.google.com/github/backendcloud/colab/blob/main/notion_api.ipynb\" target=\"_parent\"><img src=\"https://colab.research.google.com/assets/colab-badge.svg\" alt=\"Open In Colab\"/></a>"
      ]
    },
    {
      "cell_type": "code",
      "execution_count": 1,
      "metadata": {
        "colab": {
          "base_uri": "https://localhost:8080/"
        },
        "id": "60k7ajv2EaCl",
        "outputId": "07259393-d3d6-4979-a545-dc9e16cff8bb"
      },
      "outputs": [
        {
          "output_type": "stream",
          "name": "stdout",
          "text": [
            "Looking in indexes: https://pypi.org/simple, https://us-python.pkg.dev/colab-wheels/public/simple/\n",
            "Collecting notion-client\n",
            "  Downloading notion_client-2.0.0-py2.py3-none-any.whl (13 kB)\n",
            "Collecting httpx>=0.15.0\n",
            "  Downloading httpx-0.23.3-py3-none-any.whl (71 kB)\n",
            "\u001b[2K     \u001b[90m━━━━━━━━━━━━━━━━━━━━━━━━━━━━━━━━━━━━━━━━\u001b[0m \u001b[32m71.5/71.5 KB\u001b[0m \u001b[31m2.0 MB/s\u001b[0m eta \u001b[36m0:00:00\u001b[0m\n",
            "\u001b[?25hCollecting httpcore<0.17.0,>=0.15.0\n",
            "  Downloading httpcore-0.16.3-py3-none-any.whl (69 kB)\n",
            "\u001b[2K     \u001b[90m━━━━━━━━━━━━━━━━━━━━━━━━━━━━━━━━━━━━━━━━\u001b[0m \u001b[32m69.6/69.6 KB\u001b[0m \u001b[31m3.1 MB/s\u001b[0m eta \u001b[36m0:00:00\u001b[0m\n",
            "\u001b[?25hCollecting rfc3986[idna2008]<2,>=1.3\n",
            "  Downloading rfc3986-1.5.0-py2.py3-none-any.whl (31 kB)\n",
            "Collecting sniffio\n",
            "  Downloading sniffio-1.3.0-py3-none-any.whl (10 kB)\n",
            "Requirement already satisfied: certifi in /usr/local/lib/python3.9/dist-packages (from httpx>=0.15.0->notion-client) (2022.12.7)\n",
            "Collecting anyio<5.0,>=3.0\n",
            "  Downloading anyio-3.6.2-py3-none-any.whl (80 kB)\n",
            "\u001b[2K     \u001b[90m━━━━━━━━━━━━━━━━━━━━━━━━━━━━━━━━━━━━━━━━\u001b[0m \u001b[32m80.6/80.6 KB\u001b[0m \u001b[31m4.6 MB/s\u001b[0m eta \u001b[36m0:00:00\u001b[0m\n",
            "\u001b[?25hCollecting h11<0.15,>=0.13\n",
            "  Downloading h11-0.14.0-py3-none-any.whl (58 kB)\n",
            "\u001b[2K     \u001b[90m━━━━━━━━━━━━━━━━━━━━━━━━━━━━━━━━━━━━━━━━\u001b[0m \u001b[32m58.3/58.3 KB\u001b[0m \u001b[31m4.8 MB/s\u001b[0m eta \u001b[36m0:00:00\u001b[0m\n",
            "\u001b[?25hRequirement already satisfied: idna in /usr/local/lib/python3.9/dist-packages (from rfc3986[idna2008]<2,>=1.3->httpx>=0.15.0->notion-client) (3.4)\n",
            "Installing collected packages: rfc3986, sniffio, h11, anyio, httpcore, httpx, notion-client\n",
            "Successfully installed anyio-3.6.2 h11-0.14.0 httpcore-0.16.3 httpx-0.23.3 notion-client-2.0.0 rfc3986-1.5.0 sniffio-1.3.0\n"
          ]
        }
      ],
      "source": [
        "! pip install notion-client"
      ]
    },
    {
      "cell_type": "code",
      "source": [
        "import os\n",
        "from notion_client import Client\n",
        "\n",
        "notion = Client(auth=\"secret_xtBXFf8yQSyizXGXTaHwU1EWAtIpXnsKDktYUyu6Ypd\")"
      ],
      "metadata": {
        "id": "FL6zoQddEgnW"
      },
      "execution_count": 3,
      "outputs": []
    },
    {
      "cell_type": "code",
      "source": [
        "from pprint import pprint\n",
        "\n",
        "list_users_response = notion.users.list()\n",
        "pprint(list_users_response)"
      ],
      "metadata": {
        "colab": {
          "base_uri": "https://localhost:8080/"
        },
        "id": "9pKIuuJcFl21",
        "outputId": "ee109534-bdb1-4d97-9ac1-a2e8df64fe9f"
      },
      "execution_count": 4,
      "outputs": [
        {
          "output_type": "stream",
          "name": "stdout",
          "text": [
            "{'has_more': False,\n",
            " 'next_cursor': None,\n",
            " 'object': 'list',\n",
            " 'results': [{'avatar_url': 'https://s3-us-west-2.amazonaws.com/public.notion-static.com/e9355706-e1d9-48f3-aa09-a8466f7be478/me.jpg',\n",
            "              'id': 'd5069694-4ef5-4b70-ae01-42a87a188d02',\n",
            "              'name': 'hanwei',\n",
            "              'object': 'user',\n",
            "              'person': {'email': 'backendcloud@gmail.com'},\n",
            "              'type': 'person'},\n",
            "             {'avatar_url': None,\n",
            "              'bot': {'owner': {'type': 'workspace', 'workspace': True},\n",
            "                      'workspace_name': '免费的Workspace'},\n",
            "              'id': '8a287859-541d-473a-9370-de6c8a7d994e',\n",
            "              'name': 'test',\n",
            "              'object': 'user',\n",
            "              'type': 'bot'}],\n",
            " 'type': 'user',\n",
            " 'user': {}}\n"
          ]
        }
      ]
    }
  ]
}